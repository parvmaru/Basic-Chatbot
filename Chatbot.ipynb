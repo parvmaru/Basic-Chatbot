{
  "nbformat": 4,
  "nbformat_minor": 0,
  "metadata": {
    "colab": {
      "name": "Chatbot.ipynb",
      "provenance": [],
      "collapsed_sections": []
    },
    "kernelspec": {
      "name": "python3",
      "display_name": "Python 3"
    }
  },
  "cells": [
    {
      "cell_type": "code",
      "metadata": {
        "id": "j5eGZwY2G8-U"
      },
      "source": [
        "from nltk.chat.util import Chat, reflections\n",
        "import numpy as np\n",
        "import random\n",
        "import string # to process standard python strings\n"
      ],
      "execution_count": 1,
      "outputs": []
    },
    {
      "cell_type": "markdown",
      "metadata": {
        "id": "wVxz9OaNeODi"
      },
      "source": [
        ""
      ]
    },
    {
      "cell_type": "code",
      "metadata": {
        "id": "aVQx-9_ZeOxY"
      },
      "source": [
        ""
      ],
      "execution_count": 1,
      "outputs": []
    },
    {
      "cell_type": "code",
      "metadata": {
        "id": "f9Aq3DPzH7ru"
      },
      "source": [
        "pairs = [\n",
        "         ['my name is (.*)', ['hi %1,How are you today']],\n",
        "         ['(hi|hello|hey|holla|hola)', ['Hey there', 'hi there', 'Heyyy']],\n",
        "         ['(.*)(location|city) ?', 'Mumbai,Pune,Delhi,Maharashtra,Jammu Kashmir'],\n",
        "         ['how is the weather in (.*)', ['The weather in %1 is amazing like always']],\n",
        "         ['(.*)who created you ?', ['Parv Maru did using NLTK']],\n",
        "         ['(.*)help(.*)', ['I can help you']],\n",
        "         ['(.*) your name ?', ['my name is JARVIS']],\n",
        "         ['(.*)How is your day ?', ['Good(:']],\n",
        "         ['I am an  (.*)', ['Good to know that you are %1, Is there anything I can help you with', 'What  profile are you looking for Developer,Tester Support,Data Scientist']],\n",
        "         ['I want to (.*)', ['You have to choose one of the role out of following \\n 1.Developer \\n 2.Tester \\n 3.Support Functions \\n 4.Data Scientist \\n 5.Android Developer \\n 6.IOS developer']],\n",
        "         ['(.*) role', ['Why do you think you are so sure to take up %1 role as it is required lot of effort to put in.']],\n",
        "         ['(help|suggestion|advise)(.*)', ['You need my %1 ,Please tell me how can I %1 you']],\n",
        "         ['quit', ['Bye have a nice day ahead and take care']],\n",
        "         ['I love (.*)', ['Its great, we should do what we love']],\n",
        "         ['(.*)is my favorite subject',['%1 is an interesting subject to learn']]\n",
        "      \n",
        "\n",
        "\n",
        "         \n",
        "         \n",
        "        \n",
        "        \n",
        "\n",
        "\n",
        "\n",
        "\n",
        "]"
      ],
      "execution_count": 2,
      "outputs": []
    },
    {
      "cell_type": "code",
      "metadata": {
        "colab": {
          "base_uri": "https://localhost:8080/"
        },
        "id": "yoSHN-XGOcw4",
        "outputId": "2bf4ed71-336e-416e-d0c1-8175cb9bb245"
      },
      "source": [
        "reflections"
      ],
      "execution_count": 3,
      "outputs": [
        {
          "output_type": "execute_result",
          "data": {
            "text/plain": [
              "{'i': 'you',\n",
              " 'i am': 'you are',\n",
              " 'i was': 'you were',\n",
              " \"i'd\": 'you would',\n",
              " \"i'll\": 'you will',\n",
              " \"i'm\": 'you are',\n",
              " \"i've\": 'you have',\n",
              " 'me': 'you',\n",
              " 'my': 'your',\n",
              " 'you': 'me',\n",
              " 'you are': 'I am',\n",
              " 'you were': 'I was',\n",
              " \"you'll\": 'I will',\n",
              " \"you've\": 'I have',\n",
              " 'your': 'my',\n",
              " 'yours': 'mine'}"
            ]
          },
          "metadata": {
            "tags": []
          },
          "execution_count": 3
        }
      ]
    },
    {
      "cell_type": "code",
      "metadata": {
        "id": "HzhoesTpOfaE"
      },
      "source": [
        "my_dummy_reflections = {\n",
        "    'go' : 'gone', \n",
        "    'Hello' : 'Hey there'\n",
        "}"
      ],
      "execution_count": 4,
      "outputs": []
    },
    {
      "cell_type": "code",
      "metadata": {
        "id": "5vBn056sJMsR"
      },
      "source": [
        "chat = Chat(pairs, reflections)\n",
        "chat.converse()"
      ],
      "execution_count": null,
      "outputs": []
    }
  ]
}